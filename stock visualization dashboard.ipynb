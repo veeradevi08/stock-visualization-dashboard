{
 "cells": [
  {
   "cell_type": "code",
   "execution_count": null,
   "id": "02f763e1",
   "metadata": {},
   "outputs": [],
   "source": []
  },
  {
   "cell_type": "code",
   "execution_count": null,
   "id": "6c3cd66e",
   "metadata": {},
   "outputs": [],
   "source": [
    "\n",
    "pip install dash yfinance"
   ]
  },
  {
   "cell_type": "code",
   "execution_count": 3,
   "id": "cfdd0cd5",
   "metadata": {},
   "outputs": [
    {
     "data": {
      "text/html": [
       "<style>.container { width:100% !important; }</style>"
      ],
      "text/plain": [
       "<IPython.core.display.HTML object>"
      ]
     },
     "metadata": {},
     "output_type": "display_data"
    },
    {
     "data": {
      "text/html": [
       "\n",
       "        <iframe\n",
       "            width=\"100%\"\n",
       "            height=\"650\"\n",
       "            src=\"http://127.0.0.1:8055/\"\n",
       "            frameborder=\"0\"\n",
       "            allowfullscreen\n",
       "            \n",
       "        ></iframe>\n",
       "        "
      ],
      "text/plain": [
       "<IPython.lib.display.IFrame at 0x1b50fb72c50>"
      ]
     },
     "metadata": {},
     "output_type": "display_data"
    },
    {
     "name": "stderr",
     "output_type": "stream",
     "text": [
      "[*********************100%%**********************]  1 of 1 completed\n"
     ]
    }
   ],
   "source": [
    "import datetime\n",
    "import yfinance as yf\n",
    "from dash import Dash, dcc, html\n",
    "from dash.dependencies import Input, Output\n",
    "from IPython.display import display, HTML\n",
    "\n",
    "# Create the Dash app\n",
    "app = Dash(__name__)\n",
    "app.title = \"Stock Visualization\"\n",
    "\n",
    "app.layout = html.Div(children=[\n",
    "    html.H1(\"Stock Visualization Dashboard\"),\n",
    "    html.H4(\"Please enter the stock name\"),\n",
    "    dcc.Input(id='input', value='AAPL', type='text'),\n",
    "    html.Div(id='output-graph')\n",
    "])\n",
    "\n",
    "# Callback to update graph\n",
    "@app.callback(\n",
    "    Output(component_id='output-graph', component_property='children'),\n",
    "    [Input(component_id='input', component_property='value')]\n",
    ")\n",
    "def update_graph(input_data):\n",
    "    start = datetime.datetime(2010, 1, 1)\n",
    "    end = datetime.datetime.now()\n",
    "\n",
    "    try:\n",
    "        df = yf.download(input_data, start=start, end=end)\n",
    "\n",
    "        if df.empty:\n",
    "            raise ValueError(f\"No data available for the stock symbol: {input_data}\")\n",
    "\n",
    "        graph = dcc.Graph(\n",
    "            id=\"example\",\n",
    "            figure={\n",
    "                'data': [{'x': df.index, 'y': df['Close'], 'type': 'line', 'name': input_data}],\n",
    "                'layout': {'title': input_data}\n",
    "            }\n",
    "        )\n",
    "\n",
    "    except Exception as e:\n",
    "        graph = html.Div(f\"Error retrieving stock data: {str(e)}\")\n",
    "\n",
    "    return graph\n",
    "\n",
    "# Display the app in the notebook\n",
    "display(HTML(\"<style>.container { width:100% !important; }</style>\"))\n",
    "app.run_server(mode='inline', port=8055)\n"
   ]
  },
  {
   "cell_type": "code",
   "execution_count": null,
   "id": "a5a48c23",
   "metadata": {},
   "outputs": [],
   "source": [
    "\n"
   ]
  },
  {
   "cell_type": "code",
   "execution_count": null,
   "id": "e55ce2e0",
   "metadata": {},
   "outputs": [],
   "source": []
  },
  {
   "cell_type": "code",
   "execution_count": null,
   "id": "58a9e334",
   "metadata": {},
   "outputs": [],
   "source": []
  }
 ],
 "metadata": {
  "kernelspec": {
   "display_name": "Python 3 (ipykernel)",
   "language": "python",
   "name": "python3"
  },
  "language_info": {
   "codemirror_mode": {
    "name": "ipython",
    "version": 3
   },
   "file_extension": ".py",
   "mimetype": "text/x-python",
   "name": "python",
   "nbconvert_exporter": "python",
   "pygments_lexer": "ipython3",
   "version": "3.11.4"
  }
 },
 "nbformat": 4,
 "nbformat_minor": 5
}
